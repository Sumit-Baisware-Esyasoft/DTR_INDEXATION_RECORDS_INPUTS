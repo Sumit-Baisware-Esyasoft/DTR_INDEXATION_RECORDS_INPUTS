{
 "cells": [
  {
   "cell_type": "markdown",
   "id": "6dd309e3",
   "metadata": {},
   "source": [
    "import pandas as pd\n"
   ]
  },
  {
   "cell_type": "markdown",
   "id": "1bbb416f",
   "metadata": {},
   "source": [
    "import pandas as pd"
   ]
  },
  {
   "cell_type": "code",
   "execution_count": 1,
   "id": "adbc6135",
   "metadata": {},
   "outputs": [],
   "source": [
    "import pandas as pd"
   ]
  },
  {
   "cell_type": "code",
   "execution_count": 2,
   "id": "fe2c53fd",
   "metadata": {},
   "outputs": [],
   "source": [
    "df=pd.read_excel(\"DTR Master Information 2025-09-22 07-00_21992_batch1.xlsx\")"
   ]
  },
  {
   "cell_type": "markdown",
   "id": "6762c60e",
   "metadata": {},
   "source": []
  },
  {
   "cell_type": "code",
   "execution_count": 3,
   "id": "18157f97",
   "metadata": {},
   "outputs": [],
   "source": [
    "df2=pd.read_excel('DTR Master Information.xlsx')"
   ]
  },
  {
   "cell_type": "code",
   "execution_count": 6,
   "id": "5ab3f0f7",
   "metadata": {},
   "outputs": [
    {
     "data": {
      "text/plain": [
       "(8766, 22)"
      ]
     },
     "execution_count": 6,
     "metadata": {},
     "output_type": "execute_result"
    }
   ],
   "source": [
    "df.shape"
   ]
  },
  {
   "cell_type": "code",
   "execution_count": 7,
   "id": "c659ea53",
   "metadata": {},
   "outputs": [
    {
     "data": {
      "text/plain": [
       "(10395, 22)"
      ]
     },
     "execution_count": 7,
     "metadata": {},
     "output_type": "execute_result"
    }
   ],
   "source": [
    "df2.shape"
   ]
  },
  {
   "cell_type": "code",
   "execution_count": 10,
   "id": "b1c5545b",
   "metadata": {},
   "outputs": [
    {
     "data": {
      "application/vnd.microsoft.datawrangler.viewer.v0+json": {
       "columns": [
        {
         "name": "index",
         "rawType": "int64",
         "type": "integer"
        },
        {
         "name": "SL.No",
         "rawType": "object",
         "type": "unknown"
        },
        {
         "name": "Region",
         "rawType": "object",
         "type": "string"
        },
        {
         "name": "Circle",
         "rawType": "object",
         "type": "string"
        },
        {
         "name": "Division",
         "rawType": "object",
         "type": "string"
        },
        {
         "name": "Zone",
         "rawType": "object",
         "type": "string"
        },
        {
         "name": "Sub station",
         "rawType": "object",
         "type": "string"
        },
        {
         "name": "Feeder",
         "rawType": "object",
         "type": "string"
        },
        {
         "name": "Dtr",
         "rawType": "object",
         "type": "string"
        },
        {
         "name": "Dtr code",
         "rawType": "object",
         "type": "string"
        },
        {
         "name": "Feeder code",
         "rawType": "object",
         "type": "string"
        },
        {
         "name": "Msn",
         "rawType": "object",
         "type": "string"
        },
        {
         "name": "Make",
         "rawType": "object",
         "type": "unknown"
        },
        {
         "name": "Mf",
         "rawType": "object",
         "type": "string"
        },
        {
         "name": "Source",
         "rawType": "object",
         "type": "string"
        },
        {
         "name": "Meterct",
         "rawType": "object",
         "type": "string"
        },
        {
         "name": "Meterpt",
         "rawType": "object",
         "type": "string"
        },
        {
         "name": "Dtr type",
         "rawType": "object",
         "type": "unknown"
        },
        {
         "name": "Dtr rating",
         "rawType": "object",
         "type": "unknown"
        },
        {
         "name": "Installation date",
         "rawType": "object",
         "type": "string"
        },
        {
         "name": "Latitude",
         "rawType": "object",
         "type": "string"
        },
        {
         "name": "Longitude",
         "rawType": "object",
         "type": "string"
        },
        {
         "name": "Entered by",
         "rawType": "object",
         "type": "unknown"
        }
       ],
       "ref": "58ace945-f7cb-4601-a088-9e36319a1b80",
       "rows": [
        [
         "0",
         "1",
         "Jabalpur",
         "Narsinghpur",
         "Gadarwara",
         "Gadarawara-(T)",
         "Gadarwara",
         "11KV GADARWARA-(T)-2",
         "PRATIBHA COLONY",
         "6546-21",
         "6546",
         "BS12604917",
         null,
         "40",
         "Alfanar",
         "1",
         "1",
         null,
         null,
         "5/15/2025 7:07:18 PM",
         "22.907711",
         "78.791106",
         null
        ],
        [
         "1",
         "2",
         "Jabalpur",
         "Narsinghpur",
         "Gadarwara",
         "Gadarawara-(T)",
         "Gadarwara",
         "11KV GADARWARA-(T)-1",
         "Yasoda Nagar-IV",
         "6547-197",
         "6547",
         "BS12604036",
         null,
         "100",
         "Alfanar",
         "1",
         "1",
         null,
         null,
         "5/23/2025 3:08:19 PM",
         "22.911468",
         "78.788172",
         null
        ],
        [
         "2",
         "3",
         "Jabalpur",
         "Narsinghpur",
         "Gadarwara",
         "Gadarawara-(T)",
         "Gadarwara",
         "11KV GADARWARA-(T)-2",
         "REST HOUSE",
         "6546-187",
         "6546",
         "BS12604040",
         null,
         "40",
         "Alfanar",
         "1",
         "1",
         null,
         null,
         "5/22/2025 12:41:47 PM",
         "22.902331",
         "78.791548",
         null
        ],
        [
         "3",
         "4",
         "Jabalpur",
         "Narsinghpur",
         "Gadarwara",
         "Gadarawara-(T)",
         "Gadarwara",
         "11KV GADARWARA",
         "Prashant Niliyam -IV",
         "6544-38",
         "6544",
         "BS12604683",
         null,
         "100",
         "Alfanar",
         "1",
         "1",
         null,
         null,
         "5/24/2025 4:29:44 PM",
         "22.909371",
         "78.776880",
         null
        ],
        [
         "4",
         "5",
         "Jabalpur",
         "Narsinghpur",
         "Gadarwara",
         "Gadarawara-(T)",
         "Gadarwara",
         "11KV GADARWARA-(T)-2",
         "KAKI WALA MATA WARD STATION",
         "6546-195",
         "6546",
         "BS12604039",
         null,
         "40",
         "Alfanar",
         "1",
         "1",
         null,
         null,
         "5/22/2025 5:15:20 PM",
         "22.901514",
         "78.792944",
         null
        ]
       ],
       "shape": {
        "columns": 22,
        "rows": 5
       }
      },
      "text/html": [
       "<div>\n",
       "<style scoped>\n",
       "    .dataframe tbody tr th:only-of-type {\n",
       "        vertical-align: middle;\n",
       "    }\n",
       "\n",
       "    .dataframe tbody tr th {\n",
       "        vertical-align: top;\n",
       "    }\n",
       "\n",
       "    .dataframe thead th {\n",
       "        text-align: right;\n",
       "    }\n",
       "</style>\n",
       "<table border=\"1\" class=\"dataframe\">\n",
       "  <thead>\n",
       "    <tr style=\"text-align: right;\">\n",
       "      <th></th>\n",
       "      <th>SL.No</th>\n",
       "      <th>Region</th>\n",
       "      <th>Circle</th>\n",
       "      <th>Division</th>\n",
       "      <th>Zone</th>\n",
       "      <th>Sub station</th>\n",
       "      <th>Feeder</th>\n",
       "      <th>Dtr</th>\n",
       "      <th>Dtr code</th>\n",
       "      <th>Feeder code</th>\n",
       "      <th>...</th>\n",
       "      <th>Mf</th>\n",
       "      <th>Source</th>\n",
       "      <th>Meterct</th>\n",
       "      <th>Meterpt</th>\n",
       "      <th>Dtr type</th>\n",
       "      <th>Dtr rating</th>\n",
       "      <th>Installation date</th>\n",
       "      <th>Latitude</th>\n",
       "      <th>Longitude</th>\n",
       "      <th>Entered by</th>\n",
       "    </tr>\n",
       "  </thead>\n",
       "  <tbody>\n",
       "    <tr>\n",
       "      <th>0</th>\n",
       "      <td>1</td>\n",
       "      <td>Jabalpur</td>\n",
       "      <td>Narsinghpur</td>\n",
       "      <td>Gadarwara</td>\n",
       "      <td>Gadarawara-(T)</td>\n",
       "      <td>Gadarwara</td>\n",
       "      <td>11KV GADARWARA-(T)-2</td>\n",
       "      <td>PRATIBHA COLONY</td>\n",
       "      <td>6546-21</td>\n",
       "      <td>6546</td>\n",
       "      <td>...</td>\n",
       "      <td>40</td>\n",
       "      <td>Alfanar</td>\n",
       "      <td>1</td>\n",
       "      <td>1</td>\n",
       "      <td>NaN</td>\n",
       "      <td>NaN</td>\n",
       "      <td>5/15/2025 7:07:18 PM</td>\n",
       "      <td>22.907711</td>\n",
       "      <td>78.791106</td>\n",
       "      <td>NaN</td>\n",
       "    </tr>\n",
       "    <tr>\n",
       "      <th>1</th>\n",
       "      <td>2</td>\n",
       "      <td>Jabalpur</td>\n",
       "      <td>Narsinghpur</td>\n",
       "      <td>Gadarwara</td>\n",
       "      <td>Gadarawara-(T)</td>\n",
       "      <td>Gadarwara</td>\n",
       "      <td>11KV GADARWARA-(T)-1</td>\n",
       "      <td>Yasoda Nagar-IV</td>\n",
       "      <td>6547-197</td>\n",
       "      <td>6547</td>\n",
       "      <td>...</td>\n",
       "      <td>100</td>\n",
       "      <td>Alfanar</td>\n",
       "      <td>1</td>\n",
       "      <td>1</td>\n",
       "      <td>NaN</td>\n",
       "      <td>NaN</td>\n",
       "      <td>5/23/2025 3:08:19 PM</td>\n",
       "      <td>22.911468</td>\n",
       "      <td>78.788172</td>\n",
       "      <td>NaN</td>\n",
       "    </tr>\n",
       "    <tr>\n",
       "      <th>2</th>\n",
       "      <td>3</td>\n",
       "      <td>Jabalpur</td>\n",
       "      <td>Narsinghpur</td>\n",
       "      <td>Gadarwara</td>\n",
       "      <td>Gadarawara-(T)</td>\n",
       "      <td>Gadarwara</td>\n",
       "      <td>11KV GADARWARA-(T)-2</td>\n",
       "      <td>REST HOUSE</td>\n",
       "      <td>6546-187</td>\n",
       "      <td>6546</td>\n",
       "      <td>...</td>\n",
       "      <td>40</td>\n",
       "      <td>Alfanar</td>\n",
       "      <td>1</td>\n",
       "      <td>1</td>\n",
       "      <td>NaN</td>\n",
       "      <td>NaN</td>\n",
       "      <td>5/22/2025 12:41:47 PM</td>\n",
       "      <td>22.902331</td>\n",
       "      <td>78.791548</td>\n",
       "      <td>NaN</td>\n",
       "    </tr>\n",
       "    <tr>\n",
       "      <th>3</th>\n",
       "      <td>4</td>\n",
       "      <td>Jabalpur</td>\n",
       "      <td>Narsinghpur</td>\n",
       "      <td>Gadarwara</td>\n",
       "      <td>Gadarawara-(T)</td>\n",
       "      <td>Gadarwara</td>\n",
       "      <td>11KV GADARWARA</td>\n",
       "      <td>Prashant Niliyam -IV</td>\n",
       "      <td>6544-38</td>\n",
       "      <td>6544</td>\n",
       "      <td>...</td>\n",
       "      <td>100</td>\n",
       "      <td>Alfanar</td>\n",
       "      <td>1</td>\n",
       "      <td>1</td>\n",
       "      <td>NaN</td>\n",
       "      <td>NaN</td>\n",
       "      <td>5/24/2025 4:29:44 PM</td>\n",
       "      <td>22.909371</td>\n",
       "      <td>78.776880</td>\n",
       "      <td>NaN</td>\n",
       "    </tr>\n",
       "    <tr>\n",
       "      <th>4</th>\n",
       "      <td>5</td>\n",
       "      <td>Jabalpur</td>\n",
       "      <td>Narsinghpur</td>\n",
       "      <td>Gadarwara</td>\n",
       "      <td>Gadarawara-(T)</td>\n",
       "      <td>Gadarwara</td>\n",
       "      <td>11KV GADARWARA-(T)-2</td>\n",
       "      <td>KAKI WALA MATA WARD STATION</td>\n",
       "      <td>6546-195</td>\n",
       "      <td>6546</td>\n",
       "      <td>...</td>\n",
       "      <td>40</td>\n",
       "      <td>Alfanar</td>\n",
       "      <td>1</td>\n",
       "      <td>1</td>\n",
       "      <td>NaN</td>\n",
       "      <td>NaN</td>\n",
       "      <td>5/22/2025 5:15:20 PM</td>\n",
       "      <td>22.901514</td>\n",
       "      <td>78.792944</td>\n",
       "      <td>NaN</td>\n",
       "    </tr>\n",
       "  </tbody>\n",
       "</table>\n",
       "<p>5 rows × 22 columns</p>\n",
       "</div>"
      ],
      "text/plain": [
       "  SL.No    Region       Circle   Division            Zone Sub station  \\\n",
       "0     1  Jabalpur  Narsinghpur  Gadarwara  Gadarawara-(T)   Gadarwara   \n",
       "1     2  Jabalpur  Narsinghpur  Gadarwara  Gadarawara-(T)   Gadarwara   \n",
       "2     3  Jabalpur  Narsinghpur  Gadarwara  Gadarawara-(T)   Gadarwara   \n",
       "3     4  Jabalpur  Narsinghpur  Gadarwara  Gadarawara-(T)   Gadarwara   \n",
       "4     5  Jabalpur  Narsinghpur  Gadarwara  Gadarawara-(T)   Gadarwara   \n",
       "\n",
       "                 Feeder                          Dtr  Dtr code Feeder code  \\\n",
       "0  11KV GADARWARA-(T)-2              PRATIBHA COLONY   6546-21        6546   \n",
       "1  11KV GADARWARA-(T)-1              Yasoda Nagar-IV  6547-197        6547   \n",
       "2  11KV GADARWARA-(T)-2                   REST HOUSE  6546-187        6546   \n",
       "3        11KV GADARWARA         Prashant Niliyam -IV   6544-38        6544   \n",
       "4  11KV GADARWARA-(T)-2  KAKI WALA MATA WARD STATION  6546-195        6546   \n",
       "\n",
       "   ...   Mf   Source Meterct Meterpt Dtr type Dtr rating  \\\n",
       "0  ...   40  Alfanar       1       1      NaN        NaN   \n",
       "1  ...  100  Alfanar       1       1      NaN        NaN   \n",
       "2  ...   40  Alfanar       1       1      NaN        NaN   \n",
       "3  ...  100  Alfanar       1       1      NaN        NaN   \n",
       "4  ...   40  Alfanar       1       1      NaN        NaN   \n",
       "\n",
       "       Installation date   Latitude  Longitude Entered by  \n",
       "0   5/15/2025 7:07:18 PM  22.907711  78.791106        NaN  \n",
       "1   5/23/2025 3:08:19 PM  22.911468  78.788172        NaN  \n",
       "2  5/22/2025 12:41:47 PM  22.902331  78.791548        NaN  \n",
       "3   5/24/2025 4:29:44 PM  22.909371  78.776880        NaN  \n",
       "4   5/22/2025 5:15:20 PM  22.901514  78.792944        NaN  \n",
       "\n",
       "[5 rows x 22 columns]"
      ]
     },
     "execution_count": 10,
     "metadata": {},
     "output_type": "execute_result"
    }
   ],
   "source": [
    "df.head()"
   ]
  },
  {
   "cell_type": "code",
   "execution_count": null,
   "id": "576cdffb",
   "metadata": {},
   "outputs": [],
   "source": []
  }
 ],
 "metadata": {
  "kernelspec": {
   "display_name": "Python 3",
   "language": "python",
   "name": "python3"
  },
  "language_info": {
   "codemirror_mode": {
    "name": "ipython",
    "version": 3
   },
   "file_extension": ".py",
   "mimetype": "text/x-python",
   "name": "python",
   "nbconvert_exporter": "python",
   "pygments_lexer": "ipython3",
   "version": "3.13.5"
  }
 },
 "nbformat": 4,
 "nbformat_minor": 5
}
